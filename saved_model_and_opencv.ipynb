{
 "cells": [
  {
   "cell_type": "code",
   "execution_count": 1,
   "metadata": {},
   "outputs": [],
   "source": [
    "from PIL import Image\n",
    "import math\n",
    "import os\n",
    "\n",
    "import cv2\n",
    "import numpy as np\n",
    "import pandas as pd\n",
    "\n",
    "# matplotlib\n",
    "from matplotlib import pyplot\n",
    "import matplotlib.pyplot as plt\n",
    "import matplotlib.image as mpimg\n",
    "\n",
    "# sklearn\n",
    "from sklearn.model_selection import train_test_split\n",
    "from sklearn.preprocessing import LabelEncoder\n",
    "from sklearn.metrics import classification_report\n",
    "\n",
    "# tensorflow / keras\n",
    "import tensorflow as tf\n",
    "from tensorflow import keras\n",
    "from tensorflow.keras.preprocessing.image import load_img, save_img, img_to_array"
   ]
  },
  {
   "cell_type": "code",
   "execution_count": 2,
   "metadata": {},
   "outputs": [],
   "source": [
    "# load the face classifier. The xml files for opencv can be found on the opencv github under opencv/data/haarcascades\n",
    "face_cascade = cv2.CascadeClassifier(cv2.data.haarcascades + 'haarcascade_frontalface_default.xml')\n"
   ]
  },
  {
   "cell_type": "code",
   "execution_count": 3,
   "metadata": {},
   "outputs": [],
   "source": [
    "def preprocess_image(image_path):\n",
    "    # reads the image from the filepath\n",
    "    image = cv2.imread(image_path)\n",
    "    \n",
    "    # convert the image to grayscale in order to use the haar cascade\n",
    "    gray = cv2.cvtColor(image, cv2.COLOR_BGR2GRAY)\n",
    "\n",
    "    # this will detect the face and put it in an array with the x coordinate, y coordinage, width, and height\n",
    "    faces = face_cascade.detectMultiScale(gray, 1.3, 5)\n",
    "\n",
    "    # if the faces array is empty, that means no face was found\n",
    "    if len(faces)==0:\n",
    "        print(\"No faces found\")\n",
    "    \n",
    "    # this will crop out just the area with the face, resize to the appropriate size, and normalize the image\n",
    "    for (x,y,w,h) in faces:\n",
    "        just_face = image[y:y+h, x:x+w]\n",
    "        #just_face = cv2.cvtColor(just_face, cv2.COLOR_BGR2RGB)\n",
    "        im = Image.fromarray(np.uint8(just_face))\n",
    "        im = im.resize((48, 48))\n",
    "        im = img_to_array(im, dtype=np.uint8)\n",
    "        im = im[:,:,0]\n",
    "        im = np.expand_dims(im,2)\n",
    "        #im = np.expand_dims(im,0)\n",
    "        #im = im[np.newaxis]\n",
    "        im = im / 255.\n",
    "        #im = np.expand_dims(im, axis=0)\n",
    "        # preprocess_input() normalizes input in the scale of [-1, +1]\n",
    "        #\n",
    "        #im_normalized = preprocess_input(im)\n",
    "    return im"
   ]
  },
  {
   "cell_type": "code",
   "execution_count": 4,
   "metadata": {},
   "outputs": [],
   "source": [
    "cwd = os.getcwd()"
   ]
  },
  {
   "cell_type": "code",
   "execution_count": 5,
   "metadata": {},
   "outputs": [],
   "source": [
    "# dictionary converting numerical label to human readable label\n",
    "emotion_label_to_text = {0:'anger', 1:'disgust', 2:'fear', 3:'happiness', 4: 'sadness', 5: 'surprise', 6: 'neutral'}"
   ]
  },
  {
   "cell_type": "code",
   "execution_count": 6,
   "metadata": {},
   "outputs": [],
   "source": [
    "#loading labels\n",
    "import pickle\n",
    "le = pickle.load(open( os.path.join(cwd,\"le.pkl\"), \"rb\" ) )"
   ]
  },
  {
   "cell_type": "code",
   "execution_count": 7,
   "metadata": {},
   "outputs": [
    {
     "name": "stdout",
     "output_type": "stream",
     "text": [
      "{3: 0, 4: 1, 6: 2}\n"
     ]
    }
   ],
   "source": [
    "# creating mapping from inital lables to the new label-encoded labels\n",
    "le_name_mapping = dict(zip(le.classes_, le.transform(le.classes_)))\n",
    "print(le_name_mapping)"
   ]
  },
  {
   "cell_type": "code",
   "execution_count": 8,
   "metadata": {},
   "outputs": [],
   "source": [
    "# loading the model\n",
    "model = keras.models.load_model(os.path.join(cwd,'model.h5'))"
   ]
  },
  {
   "cell_type": "code",
   "execution_count": 9,
   "metadata": {},
   "outputs": [],
   "source": [
    "# mapping the labels\n",
    "mapper = {\n",
    "    0: \"happy\",\n",
    "    1: \"sad\",\n",
    "    2: \"neutral\",\n",
    "}"
   ]
  },
  {
   "cell_type": "code",
   "execution_count": 10,
   "metadata": {},
   "outputs": [],
   "source": [
    "image_path = 'example_images/005_ps.jpg'\n",
    "im = preprocess_image(image_path)"
   ]
  },
  {
   "cell_type": "code",
   "execution_count": 11,
   "metadata": {},
   "outputs": [
    {
     "data": {
      "text/plain": [
       "Text(0.5, 1.0, 'happy')"
      ]
     },
     "execution_count": 11,
     "metadata": {},
     "output_type": "execute_result"
    },
    {
     "data": {
      "image/png": "[encoded data removed]",
      "text/plain": [
       "<Figure size 432x288 with 1 Axes>"
      ]
     },
     "metadata": {
      "needs_background": "light"
     },
     "output_type": "display_data"
    }
   ],
   "source": [
    "plt.imshow(im, cmap='gray')\n",
    "im = np.expand_dims(im,0)\n",
    "prediction = mapper[np.argmax(model.predict(im))]\n",
    "plt.title(prediction)"
   ]
  },
  {
   "cell_type": "code",
   "execution_count": null,
   "metadata": {},
   "outputs": [],
   "source": []
  }
 ],
 "metadata": {
  "kernelspec": {
   "display_name": "Python 3",
   "language": "python",
   "name": "python3"
  },
  "language_info": {
   "codemirror_mode": {
    "name": "ipython",
    "version": 3
   },
   "file_extension": ".py",
   "mimetype": "text/x-python",
   "name": "python",
   "nbconvert_exporter": "python",
   "pygments_lexer": "ipython3",
   "version": "3.8.5"
  }
 },
 "nbformat": 4,
 "nbformat_minor": 4
}
